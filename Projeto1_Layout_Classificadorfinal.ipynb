{
 "cells": [
  {
   "cell_type": "markdown",
   "metadata": {},
   "source": [
    "# Projeto 1 - Ciência dos Dados"
   ]
  },
  {
   "cell_type": "markdown",
   "metadata": {},
   "source": [
    "Nome: Breno Brolacci Schiavon\n",
    "\n",
    "Nome: João Manoel Pasqua Filho"
   ]
  },
  {
   "cell_type": "markdown",
   "metadata": {},
   "source": [
    "Atenção: Serão permitidos grupos de três pessoas, mas com uma rubrica mais exigente. Grupos deste tamanho precisarão fazer um questionário de avaliação de trabalho em equipe"
   ]
  },
  {
   "cell_type": "markdown",
   "metadata": {},
   "source": [
    "___\n",
    "Carregando algumas bibliotecas:"
   ]
  },
  {
   "cell_type": "code",
   "execution_count": 139,
   "metadata": {},
   "outputs": [],
   "source": [
    "#importando bibliotecas:\n",
    "\n",
    "%matplotlib inline\n",
    "import pandas as pd\n",
    "import matplotlib.pyplot as plt\n",
    "import numpy as np\n",
    "import os\n",
    "import re"
   ]
  },
  {
   "cell_type": "code",
   "execution_count": 140,
   "metadata": {
    "scrolled": false
   },
   "outputs": [
    {
     "name": "stdout",
     "output_type": "stream",
     "text": [
      "Esperamos trabalhar no diretório\n",
      "C:\\Users\\João Manoel\\Documents\\cdados\\projeto1cdados (2)\\projeto1cdados\n"
     ]
    }
   ],
   "source": [
    "print('Esperamos trabalhar no diretório')\n",
    "print(os.getcwd())"
   ]
  },
  {
   "cell_type": "markdown",
   "metadata": {},
   "source": [
    "Carregando a base de dados com os tweets classificados como relevantes e não relevantes:"
   ]
  },
  {
   "cell_type": "code",
   "execution_count": 141,
   "metadata": {},
   "outputs": [],
   "source": [
    "filename = 'BigMac1.xlsx'"
   ]
  },
  {
   "cell_type": "code",
   "execution_count": 142,
   "metadata": {},
   "outputs": [
    {
     "data": {
      "text/html": [
       "<div>\n",
       "<style scoped>\n",
       "    .dataframe tbody tr th:only-of-type {\n",
       "        vertical-align: middle;\n",
       "    }\n",
       "\n",
       "    .dataframe tbody tr th {\n",
       "        vertical-align: top;\n",
       "    }\n",
       "\n",
       "    .dataframe thead th {\n",
       "        text-align: right;\n",
       "    }\n",
       "</style>\n",
       "<table border=\"1\" class=\"dataframe\">\n",
       "  <thead>\n",
       "    <tr style=\"text-align: right;\">\n",
       "      <th></th>\n",
       "      <th>Treinamento</th>\n",
       "      <th>Relevancia</th>\n",
       "    </tr>\n",
       "  </thead>\n",
       "  <tbody>\n",
       "    <tr>\n",
       "      <th>0</th>\n",
       "      <td>@tiagogreis o frango tá o preço do big mac</td>\n",
       "      <td>0</td>\n",
       "    </tr>\n",
       "    <tr>\n",
       "      <th>1</th>\n",
       "      <td>somente um combo de duplo big mac agora pra me...</td>\n",
       "      <td>1</td>\n",
       "    </tr>\n",
       "    <tr>\n",
       "      <th>2</th>\n",
       "      <td>queria tanto um big mac agr</td>\n",
       "      <td>1</td>\n",
       "    </tr>\n",
       "    <tr>\n",
       "      <th>3</th>\n",
       "      <td>mãe esqueceu de trazer o meu almoço então feli...</td>\n",
       "      <td>1</td>\n",
       "    </tr>\n",
       "    <tr>\n",
       "      <th>4</th>\n",
       "      <td>quando eu e o boy tá perto do mcdonald's ele j...</td>\n",
       "      <td>1</td>\n",
       "    </tr>\n",
       "  </tbody>\n",
       "</table>\n",
       "</div>"
      ],
      "text/plain": [
       "                                         Treinamento  Relevancia\n",
       "0         @tiagogreis o frango tá o preço do big mac           0\n",
       "1  somente um combo de duplo big mac agora pra me...           1\n",
       "2                        queria tanto um big mac agr           1\n",
       "3  mãe esqueceu de trazer o meu almoço então feli...           1\n",
       "4  quando eu e o boy tá perto do mcdonald's ele j...           1"
      ]
     },
     "execution_count": 142,
     "metadata": {},
     "output_type": "execute_result"
    }
   ],
   "source": [
    "#Abrindo arquivo na parte de treinamento:\n",
    "\n",
    "train = pd.read_excel(filename)\n",
    "train.head()"
   ]
  },
  {
   "cell_type": "code",
   "execution_count": 143,
   "metadata": {},
   "outputs": [
    {
     "data": {
      "text/html": [
       "<div>\n",
       "<style scoped>\n",
       "    .dataframe tbody tr th:only-of-type {\n",
       "        vertical-align: middle;\n",
       "    }\n",
       "\n",
       "    .dataframe tbody tr th {\n",
       "        vertical-align: top;\n",
       "    }\n",
       "\n",
       "    .dataframe thead th {\n",
       "        text-align: right;\n",
       "    }\n",
       "</style>\n",
       "<table border=\"1\" class=\"dataframe\">\n",
       "  <thead>\n",
       "    <tr style=\"text-align: right;\">\n",
       "      <th></th>\n",
       "      <th>Teste</th>\n",
       "      <th>Relevância</th>\n",
       "    </tr>\n",
       "  </thead>\n",
       "  <tbody>\n",
       "    <tr>\n",
       "      <th>0</th>\n",
       "      <td>@ancapsu tenho medo, o brasil vai conseguir de...</td>\n",
       "      <td>0.0</td>\n",
       "    </tr>\n",
       "    <tr>\n",
       "      <th>1</th>\n",
       "      <td>@tabataamaralsp big mac em promoção hoje no 7 ...</td>\n",
       "      <td>1.0</td>\n",
       "    </tr>\n",
       "    <tr>\n",
       "      <th>2</th>\n",
       "      <td>almocei frango, alface, cebola, abobora caboti...</td>\n",
       "      <td>1.0</td>\n",
       "    </tr>\n",
       "    <tr>\n",
       "      <th>3</th>\n",
       "      <td>qria um big mac agr</td>\n",
       "      <td>1.0</td>\n",
       "    </tr>\n",
       "    <tr>\n",
       "      <th>4</th>\n",
       "      <td>@alcrsk @objetoscomcara mano, acho que ela é u...</td>\n",
       "      <td>0.0</td>\n",
       "    </tr>\n",
       "  </tbody>\n",
       "</table>\n",
       "</div>"
      ],
      "text/plain": [
       "                                               Teste  Relevância\n",
       "0  @ancapsu tenho medo, o brasil vai conseguir de...         0.0\n",
       "1  @tabataamaralsp big mac em promoção hoje no 7 ...         1.0\n",
       "2  almocei frango, alface, cebola, abobora caboti...         1.0\n",
       "3                                qria um big mac agr         1.0\n",
       "4  @alcrsk @objetoscomcara mano, acho que ela é u...         0.0"
      ]
     },
     "execution_count": 143,
     "metadata": {},
     "output_type": "execute_result"
    }
   ],
   "source": [
    "#Abrindo arquivo na parte de teste:\n",
    "\n",
    "test = pd.read_excel(filename, sheet_name = 'Teste')\n",
    "test.head()"
   ]
  },
  {
   "cell_type": "markdown",
   "metadata": {},
   "source": [
    "___\n",
    "## Classificador automático de sentimento\n"
   ]
  },
  {
   "cell_type": "markdown",
   "metadata": {},
   "source": [
    "Faça aqui uma descrição do seu produto e o que considerou como relevante ou não relevante na classificação dos tweets.\n",
    "\n",
    "ESCREVA AQUI...\n",
    "\n",
    "O produto escolhido foi o lanche \"Big mac\" do restaurante fast-food Mc Donalds. Para classificar a relevância de um tweet, decidimos optar por selecionar como relevante tudo que qualificava o lanche, sendo uma opinião negativa ou positiva.\n"
   ]
  },
  {
   "cell_type": "markdown",
   "metadata": {},
   "source": [
    "___\n",
    "### Montando um Classificador Naive-Bayes\n",
    "\n",
    "Considerando apenas as mensagens da planilha Treinamento, ensine  seu classificador."
   ]
  },
  {
   "cell_type": "code",
   "execution_count": 144,
   "metadata": {},
   "outputs": [],
   "source": [
    "#funcao para remover a pontuacao dos tweets:\n",
    "\n",
    "def sem_pontuacao(x):\n",
    "    \n",
    "    pontuacao = '[,\"!-.:?;]'\n",
    "    padrao = re.compile(pontuacao)\n",
    "    texto = re.sub(padrao, '', x)\n",
    "    return texto\n"
   ]
  },
  {
   "cell_type": "code",
   "execution_count": 145,
   "metadata": {},
   "outputs": [],
   "source": [
    "#listas para adicionar as palavras dos tweets:\n",
    "\n",
    "palavras_treinamento_lista = []\n",
    "palavras_relevantes_treinamento_lista = []\n",
    "palavras_irrelevantes_treinamento_lista = []\n",
    "\n",
    "#loop (tira a pontuacao, muda tudo para letra minuscula e adiciona em uma lista)\n",
    "\n",
    "for i in range(0,len(train)):\n",
    "    tweet = train[\"Treinamento\"].iloc[i]\n",
    "    relevancia = train[\"Relevancia\"].iloc[i]\n",
    "    train[\"Treinamento\"].iloc[i] = sem_pontuacao(tweet.lower())\n",
    "    for palavra in tweet.split():\n",
    "        palavras_treinamento_lista.append(sem_pontuacao(palavra))\n",
    "        \n",
    "        if relevancia == 1:\n",
    "            palavras_relevantes_treinamento_lista.append(sem_pontuacao(palavra))\n",
    "        \n",
    "        else:\n",
    "            palavras_irrelevantes_treinamento_lista.append(sem_pontuacao(palavra))\n"
   ]
  },
  {
   "cell_type": "code",
   "execution_count": 146,
   "metadata": {},
   "outputs": [
    {
     "data": {
      "text/plain": [
       "big    0.062921\n",
       "mac    0.059975\n",
       "um     0.033880\n",
       "e      0.027146\n",
       "de     0.023148\n",
       "dtype: float64"
      ]
     },
     "execution_count": 146,
     "metadata": {},
     "output_type": "execute_result"
    }
   ],
   "source": [
    "#transforma a lista em uma Series para depois fazer a contagem dos valores:\n",
    "\n",
    "palavras_treinamento = pd.Series(palavras_treinamento_lista)\n",
    "tabela_palavras = palavras_treinamento.value_counts(True)\n",
    "tabela_palavras.head()"
   ]
  },
  {
   "cell_type": "code",
   "execution_count": 147,
   "metadata": {},
   "outputs": [
    {
     "data": {
      "text/plain": [
       "big    0.068531\n",
       "mac    0.066073\n",
       "um     0.040565\n",
       "e      0.025814\n",
       "de     0.022127\n",
       "dtype: float64"
      ]
     },
     "execution_count": 147,
     "metadata": {},
     "output_type": "execute_result"
    }
   ],
   "source": [
    "#transforma a lista em uma Series para depois fazer a contagem dos valores:\n",
    "\n",
    "palavras_relevantes_treinamento = pd.Series(palavras_relevantes_treinamento_lista)\n",
    "tabela_palavras_relevantes = palavras_relevantes_treinamento.value_counts(True)\n",
    "tabela_palavras_relevantes.head()"
   ]
  },
  {
   "cell_type": "code",
   "execution_count": 148,
   "metadata": {},
   "outputs": [
    {
     "data": {
      "text/plain": [
       "big    0.050734\n",
       "mac    0.046729\n",
       "e      0.030040\n",
       "o      0.027370\n",
       "de     0.025367\n",
       "dtype: float64"
      ]
     },
     "execution_count": 148,
     "metadata": {},
     "output_type": "execute_result"
    }
   ],
   "source": [
    "#transforma a lista em uma Series para depois fazer a contagem dos valores:\n",
    "\n",
    "palavras_irrelevantes_treinamento = pd.Series(palavras_irrelevantes_treinamento_lista)\n",
    "tabela_palavras_irrelevantes = palavras_irrelevantes_treinamento.value_counts(True)\n",
    "tabela_palavras_irrelevantes.head()"
   ]
  },
  {
   "cell_type": "markdown",
   "metadata": {},
   "source": [
    "___\n",
    "### Verificando a performance do Classificador\n",
    "\n",
    "Agora você deve testar o seu classificador com a base de Testes."
   ]
  },
  {
   "cell_type": "code",
   "execution_count": 149,
   "metadata": {},
   "outputs": [
    {
     "name": "stdout",
     "output_type": "stream",
     "text": [
      "P(R)=0.6847643097643098 \n",
      "P(I)=0.31523569023569026\n"
     ]
    }
   ],
   "source": [
    "#Probabilidade de ser Relevante:\n",
    "\n",
    "ProbR = len(palavras_relevantes_treinamento)/len(palavras_treinamento)\n",
    "\n",
    "#Probabilidade de ser Irrelevante:\n",
    "\n",
    "ProbI = len(palavras_irrelevantes_treinamento)/len(palavras_treinamento)\n",
    "            \n",
    "print(f'P(R)={ProbR} \\nP(I)={ProbI}')\n"
   ]
  },
  {
   "cell_type": "code",
   "execution_count": 154,
   "metadata": {},
   "outputs": [
    {
     "name": "stderr",
     "output_type": "stream",
     "text": [
      "C:\\Apps\\Anaconda\\lib\\site-packages\\ipykernel_launcher.py:41: SettingWithCopyWarning: \n",
      "A value is trying to be set on a copy of a slice from a DataFrame\n",
      "\n",
      "See the caveats in the documentation: http://pandas.pydata.org/pandas-docs/stable/indexing.html#indexing-view-versus-copy\n"
     ]
    },
    {
     "data": {
      "text/html": [
       "<div>\n",
       "<style scoped>\n",
       "    .dataframe tbody tr th:only-of-type {\n",
       "        vertical-align: middle;\n",
       "    }\n",
       "\n",
       "    .dataframe tbody tr th {\n",
       "        vertical-align: top;\n",
       "    }\n",
       "\n",
       "    .dataframe thead th {\n",
       "        text-align: right;\n",
       "    }\n",
       "</style>\n",
       "<table border=\"1\" class=\"dataframe\">\n",
       "  <thead>\n",
       "    <tr style=\"text-align: right;\">\n",
       "      <th></th>\n",
       "      <th>Teste</th>\n",
       "      <th>Relevância</th>\n",
       "      <th>Relevancia_bayes</th>\n",
       "    </tr>\n",
       "  </thead>\n",
       "  <tbody>\n",
       "    <tr>\n",
       "      <th>0</th>\n",
       "      <td>@ancapsu tenho medo, o brasil vai conseguir de...</td>\n",
       "      <td>0.0</td>\n",
       "      <td>0</td>\n",
       "    </tr>\n",
       "    <tr>\n",
       "      <th>1</th>\n",
       "      <td>@tabataamaralsp big mac em promoção hoje no 7 ...</td>\n",
       "      <td>1.0</td>\n",
       "      <td>0</td>\n",
       "    </tr>\n",
       "    <tr>\n",
       "      <th>2</th>\n",
       "      <td>almocei frango, alface, cebola, abobora caboti...</td>\n",
       "      <td>1.0</td>\n",
       "      <td>0</td>\n",
       "    </tr>\n",
       "    <tr>\n",
       "      <th>3</th>\n",
       "      <td>qria um big mac agr</td>\n",
       "      <td>1.0</td>\n",
       "      <td>1</td>\n",
       "    </tr>\n",
       "    <tr>\n",
       "      <th>4</th>\n",
       "      <td>@alcrsk @objetoscomcara mano, acho que ela é u...</td>\n",
       "      <td>0.0</td>\n",
       "      <td>1</td>\n",
       "    </tr>\n",
       "  </tbody>\n",
       "</table>\n",
       "</div>"
      ],
      "text/plain": [
       "                                               Teste  Relevância  \\\n",
       "0  @ancapsu tenho medo, o brasil vai conseguir de...         0.0   \n",
       "1  @tabataamaralsp big mac em promoção hoje no 7 ...         1.0   \n",
       "2  almocei frango, alface, cebola, abobora caboti...         1.0   \n",
       "3                                qria um big mac agr         1.0   \n",
       "4  @alcrsk @objetoscomcara mano, acho que ela é u...         0.0   \n",
       "\n",
       "   Relevancia_bayes  \n",
       "0                 0  \n",
       "1                 0  \n",
       "2                 0  \n",
       "3                 1  \n",
       "4                 1  "
      ]
     },
     "execution_count": 154,
     "metadata": {},
     "output_type": "execute_result"
    }
   ],
   "source": [
    "frase_limpa = \"\"\n",
    "\n",
    "contagem_relevantes = tabela_palavras_relevantes.shape[0]\n",
    "contagem_irrelevantes = tabela_palavras_irrelevantes.shape[0]\n",
    "\n",
    "#Adicionando uma nova coluna para o Dataframe do teste:\n",
    "test['Relevancia_bayes']=0\n",
    "\n",
    "total_palavras = len(palavras_treinamento_lista)\n",
    "\n",
    "ocorrencias = 0\n",
    "\n",
    "#Percorrendo palavra por palavra dos tweets para calcular a probabilidade do tweet ser relevante ou nao,\n",
    "# tudo isso baseado na frequencia de aparicao das palavras na base de treinamento:\n",
    "\n",
    "for i in range(0,len(test)):\n",
    "    probTweetDadoR = 1\n",
    "    probTweetDadoI = 1\n",
    "   \n",
    "    frase = test[\"Teste\"].iloc[i]\n",
    "    frase_limpa = sem_pontuacao(frase.lower())\n",
    "    lista_palavras = frase_limpa.split()\n",
    "    \n",
    "    for palavra in lista_palavras:\n",
    "        ocorrencia_relevante = 0\n",
    "        ocorrencia_irrelevante = 0\n",
    "        \n",
    "        if palavra in tabela_palavras_relevantes:\n",
    "            ocorrencia_relevante = tabela_palavras_relevantes[palavra]\n",
    "            \n",
    "        if palavra in tabela_palavras_irrelevantes:\n",
    "            ocorrencia_irrelevante = tabela_palavras_irrelevantes[palavra]\n",
    "            \n",
    "        probTweetDadoR *= (ocorrencia_relevante + 1) / (total_palavras + contagem_relevantes)\n",
    "        probTweetDadoI *= ( ocorrencia_irrelevante + 1) / (total_palavras + contagem_irrelevantes)\n",
    "\n",
    "    pRtweet = probTweetDadoR * ProbR\n",
    "\n",
    "    pItweet = probTweetDadoI * ProbI\n",
    "    \n",
    "    if pRtweet > pItweet:\n",
    "        test['Relevancia_bayes'][i] = 1\n",
    "          \n",
    "test.head()\n"
   ]
  },
  {
   "cell_type": "code",
   "execution_count": 151,
   "metadata": {},
   "outputs": [
    {
     "data": {
      "text/html": [
       "<div>\n",
       "<style scoped>\n",
       "    .dataframe tbody tr th:only-of-type {\n",
       "        vertical-align: middle;\n",
       "    }\n",
       "\n",
       "    .dataframe tbody tr th {\n",
       "        vertical-align: top;\n",
       "    }\n",
       "\n",
       "    .dataframe thead th {\n",
       "        text-align: right;\n",
       "    }\n",
       "</style>\n",
       "<table border=\"1\" class=\"dataframe\">\n",
       "  <thead>\n",
       "    <tr style=\"text-align: right;\">\n",
       "      <th>Relevancia_bayes</th>\n",
       "      <th>0</th>\n",
       "      <th>1</th>\n",
       "    </tr>\n",
       "    <tr>\n",
       "      <th>Relevância</th>\n",
       "      <th></th>\n",
       "      <th></th>\n",
       "    </tr>\n",
       "  </thead>\n",
       "  <tbody>\n",
       "    <tr>\n",
       "      <th>0.0</th>\n",
       "      <td>18.09</td>\n",
       "      <td>15.58</td>\n",
       "    </tr>\n",
       "    <tr>\n",
       "      <th>1.0</th>\n",
       "      <td>35.68</td>\n",
       "      <td>30.65</td>\n",
       "    </tr>\n",
       "  </tbody>\n",
       "</table>\n",
       "</div>"
      ],
      "text/plain": [
       "Relevancia_bayes      0      1\n",
       "Relevância                    \n",
       "0.0               18.09  15.58\n",
       "1.0               35.68  30.65"
      ]
     },
     "execution_count": 151,
     "metadata": {},
     "output_type": "execute_result"
    }
   ],
   "source": [
    "#Tabela que mostra o percentual de acertos para relacionando a tabela de relevancia classificada \n",
    "# manual com a tabela do classificador.\n",
    "pd.crosstab(test['Relevância'], test['Relevancia_bayes'], normalize='all').round(4) * 100"
   ]
  },
  {
   "cell_type": "code",
   "execution_count": 152,
   "metadata": {},
   "outputs": [
    {
     "name": "stdout",
     "output_type": "stream",
     "text": [
      "A acurácia do classificador é igual a 48.5 %\n"
     ]
    }
   ],
   "source": [
    "#Calculando acuracia atraves de um loop que faz a contagem dos valores que coincidem e divide pelo numero de termos.\n",
    "\n",
    "acuracia = 0\n",
    "termos = 0\n",
    "for i in range(0, len(test)):\n",
    "    if test['Relevancia_bayes'][i] == test['Relevância'][i]:\n",
    "        acuracia += 1\n",
    "    termos += 1\n",
    "\n",
    "acuracia = (acuracia/termos) * 100\n",
    "\n",
    "print('A acurácia do classificador é igual a {} %'.format(acuracia))"
   ]
  },
  {
   "cell_type": "markdown",
   "metadata": {},
   "source": [
    "___\n",
    "### Concluindo"
   ]
  },
  {
   "cell_type": "markdown",
   "metadata": {},
   "source": [
    "A partir da acurácia de nosso classificador, pode-se perceber que há muitas coisas que podem ser feitas para um aumento desse percentual (48.5%), como por exemplo a adaptação de abreviações de palavras, a categorização de significado de emojis com o intuito de entender o sentimento de uma pessoa a partir do seu uso. Além disso, conseguimos perceber que algumas figuras de linguagem utilizadas, como o sarcasmo por exemplo, interferem no resultado da eficiência do classificador de modo que o computador não consegue entender o duplo sentido de uma frase e acaba o classificando de maneira errônea. Com isso, acreditamos que mesmo após obtermos um baixo percentual de acurácia, com a implementação de melhorias citadas anteriormente e outras não citadas, o desempenho do classificador pode aumentar muito, sendo assim um projeto muito promissor.\n",
    "\n"
   ]
  },
  {
   "cell_type": "markdown",
   "metadata": {},
   "source": [
    "Com o desenolvimento do projeto, conseguimos aprender muito sobre o classificador de Naive-Bayes e concluímos que é possível a utilização dessa ferramenta em diversas ocasiões, como por exemplo uma ferramenta de pesquisa de uma biblioteca, que a partir de uma citação, descobre o livro a qual pertence."
   ]
  },
  {
   "cell_type": "markdown",
   "metadata": {},
   "source": [
    "___\n",
    "### Qualidade do Classificador a partir de novas separações dos tweets entre Treinamento e Teste\n",
    "\n",
    "Caso for fazer esse item do Projeto"
   ]
  },
  {
   "cell_type": "code",
   "execution_count": null,
   "metadata": {},
   "outputs": [],
   "source": []
  },
  {
   "cell_type": "code",
   "execution_count": null,
   "metadata": {},
   "outputs": [],
   "source": []
  },
  {
   "cell_type": "code",
   "execution_count": null,
   "metadata": {},
   "outputs": [],
   "source": []
  },
  {
   "cell_type": "markdown",
   "metadata": {},
   "source": [
    "___\n",
    "## Aperfeiçoamento:\n",
    "\n",
    "Trabalhos que conseguirem pelo menos conceito B vão evoluir em conceito dependendo da quantidade de itens avançados:\n",
    "\n",
    "* IMPLEMENTOU outras limpezas e transformações que não afetem a qualidade da informação contida nos tweets. Ex: stemming, lemmatization, stopwords\n",
    "* CORRIGIU separação de espaços entre palavras e emojis ou entre emojis e emojis\n",
    "* CRIOU categorias intermediárias de relevância baseadas na probabilidade: ex.: muito relevante, relevante, neutro, irrelevante, muito irrelevante. Pelo menos quatro categorias, com adição de mais tweets na base, conforme enunciado. (OBRIGATÓRIO PARA TRIOS, sem contar como item avançado)\n",
    "* EXPLICOU porquê não pode usar o próprio classificador para gerar mais amostras de treinamento\n",
    "* PROPÔS diferentes cenários para Naïve Bayes fora do contexto do projeto\n",
    "* SUGERIU e EXPLICOU melhorias reais com indicações concretas de como implementar (indicar como fazer e indicar material de pesquisa)\n",
    "* FEZ o item 6. Qualidade do Classificador a partir de novas separações dos tweets entre Treinamento e Teste descrito no enunciado do projeto (OBRIGATÓRIO para conceitos A ou A+)"
   ]
  },
  {
   "cell_type": "markdown",
   "metadata": {},
   "source": [
    "___\n",
    "## Referências"
   ]
  },
  {
   "cell_type": "markdown",
   "metadata": {},
   "source": [
    "[Naive Bayes and Text Classification](https://arxiv.org/pdf/1410.5329.pdf)  **Mais completo**\n",
    "\n",
    "[A practical explanation of a Naive Bayes Classifier](https://monkeylearn.com/blog/practical-explanation-naive-bayes-classifier/) **Mais simples**"
   ]
  },
  {
   "cell_type": "code",
   "execution_count": null,
   "metadata": {},
   "outputs": [],
   "source": []
  }
 ],
 "metadata": {
  "kernelspec": {
   "display_name": "Python 3",
   "language": "python",
   "name": "python3"
  },
  "language_info": {
   "codemirror_mode": {
    "name": "ipython",
    "version": 3
   },
   "file_extension": ".py",
   "mimetype": "text/x-python",
   "name": "python",
   "nbconvert_exporter": "python",
   "pygments_lexer": "ipython3",
   "version": "3.7.3"
  }
 },
 "nbformat": 4,
 "nbformat_minor": 4
}
